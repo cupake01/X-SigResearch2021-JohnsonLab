{
 "cells": [
  {
   "cell_type": "markdown",
   "metadata": {},
   "source": [
    "This Notebook goes has function/method in the Class PlayingCard where the deal function is \"rigged\" or manipulated\n",
    "by allowing 1 player to have 4 of what they specified. \n",
    "\n",
    "I created two methods in which you can specify if you want player1 or play 2 to have all the aces.\n",
    "\n",
    "Example: Using deal_player1_four(). input: 2 this will give all 2 cards to player 1\n",
    "\n",
    "Example: Using deal_player2_four(). input: 14 this will give allcards to player 2\n",
    "\n",
    "Those methods/functions can be found under:\n",
    "    \n",
    "    deal_player1_four: In this case player 1 will have all the cards specified\n",
    "    \n",
    "    deal_player2_four: In this case player 2 will have all the cards specified\n",
    "        \n",
    "These are all shuffled:) also I am using a seed to recreate my results\n",
    "\n",
    "Functions that we still want to add\n",
    "\n",
    "taking 1,2,or 3 card(s) and putting them in to a card stack\n",
    "\n",
    "Taking 1,2,or 3 card(s) and putting them into specific indices"
   ]
  },
  {
   "cell_type": "code",
   "execution_count": 1,
   "metadata": {},
   "outputs": [],
   "source": [
    "from enum import Enum\n",
    "from enum import IntEnum\n",
    "from random import *\n",
    "import random\n",
    "#random.seed(1)\n",
    "#random.seed(2) # seed 2 gives aces to p1 all at the start\n",
    "random.seed(3)"
   ]
  },
  {
   "cell_type": "code",
   "execution_count": 2,
   "metadata": {},
   "outputs": [],
   "source": [
    "full_deck = []\n",
    "partial_deck = []\n",
    "player1_cards = []\n",
    "player2_cards = []"
   ]
  },
  {
   "cell_type": "code",
   "execution_count": 3,
   "metadata": {},
   "outputs": [],
   "source": [
    "# Card class\n",
    "class Card(IntEnum):\n",
    "    TWO = 2\n",
    "    THREE = 3\n",
    "    FOUR = 4\n",
    "    FIVE = 5\n",
    "    SIX = 6\n",
    "    SEVEN = 7\n",
    "    EIGHT = 8\n",
    "    NINE = 9\n",
    "    TEN = 10\n",
    "    JACK = 11\n",
    "    QUEEN = 12\n",
    "    KING = 13\n",
    "    ACE = 14"
   ]
  },
  {
   "cell_type": "code",
   "execution_count": 4,
   "metadata": {},
   "outputs": [],
   "source": [
    "# Suit enum for playing cards(Not really used except for testing)\n",
    "class Suit(Enum):\n",
    "    SPADES = 'spades'\n",
    "    ClUBS = 'clubs'\n",
    "    HEARTS = 'hearts'\n",
    "    DIAMONDS = 'diamonds'"
   ]
  },
  {
   "cell_type": "code",
   "execution_count": 5,
   "metadata": {},
   "outputs": [],
   "source": [
    "# Playing card class\n",
    "# Class to hold info for playing card\n",
    "class PlayingCard:\n",
    "    def __init__(self, card_value, card_suit):\n",
    "        self.card = card_value\n",
    "        self.suit = card_suit\n",
    "\n",
    "# Function to deal a full deck of cards\n",
    "def create_deck():\n",
    " # Adding Cards into deck\n",
    "    for suit in Suit:\n",
    "        for card in Card:\n",
    "            full_deck.append(PlayingCard(Card(card), Suit(suit)))\n",
    "    return full_deck\n",
    "\n",
    "#return a random card from deck(inclusive)\n",
    "# Draw single card from deck\n",
    "def draw_card(deck):\n",
    "    rand_card = randint(0, len(deck) - 1)\n",
    "    return deck.pop(rand_card)\n",
    "\n",
    "# take the specified number and store all 4 into a container(\"RIGGED\" deal)\n",
    "def take_four(deck):\n",
    "    fourCard_deck = [] # holder for the cards specifically asked for :)\n",
    "    cardVal = int(input(\"SPECIFY WHICH rank card you want to remove, ex2, 3,...J(11),...,A(14):\")) # get scanner\n",
    "    cardIndex = (cardVal - 2) # get the starting index\n",
    "    while(cardIndex < len(deck)):#go through partial deck \n",
    "        #print(\"curr Card\",deck[cardIndex].card)\n",
    "        #print(\"cardIndex in loop\",cardIndex)\n",
    "        # In this part I will append the card I find into fourCard Deck\n",
    "        fourCard_deck.append(deck.pop(cardIndex))#appen each out of those card from partial deck into some player\n",
    "        #print(len(fourCard_deck))\n",
    "        cardIndex += 12\n",
    "    return fourCard_deck\n",
    "\n",
    "# Deal two players for the game of war(regular deal)\n",
    "def deal_war():\n",
    "    while(len(partial_deck) > 0):\n",
    "        player1_cards.append(draw_card(partial_deck))\n",
    "        player2_cards.append(draw_card(partial_deck))    \n",
    "        \n",
    "# Deals the all aces to player 1        \n",
    "def deal_player1_four():\n",
    "    # Extend all the aces to player1's cards\n",
    "    fourCards = take_four(partial_deck)\n",
    "    player1_cards.extend(fourCards)\n",
    "    while(len(partial_deck) > 0):\n",
    "        player1_cards.append(draw_card(partial_deck))\n",
    "        player2_cards.append(draw_card(partial_deck))\n",
    "    #print(\"this card is going to p2\", player1_cards[27].card)\n",
    "    #print(\"this card is going to p2\",player1_cards[26].card)\n",
    "    player2_cards.append(player1_cards.pop(27))\n",
    "    player2_cards.append(player1_cards.pop(26))\n",
    "    #shuffle p1 & p2\n",
    "    random.shuffle(player1_cards)\n",
    "    random.shuffle(player2_cards)\n",
    "    \n",
    "def deal_player2_four():\n",
    "    # Extend all the aces to player2's cards\n",
    "    fourCards = take_four(partial_deck)\n",
    "    player2_cards.extend(fourCards)\n",
    "    \n",
    "    while(len(partial_deck) > 0):\n",
    "        \n",
    "        player1_cards.append(draw_card(partial_deck))\n",
    "        player2_cards.append(draw_card(partial_deck))\n",
    "    #print(\"this card is going to p2\", player1_cards[27].card)\n",
    "    #print(\"this card is going to p2\",player1_cards[26].card)\n",
    "    player1_cards.append(player2_cards.pop(27))\n",
    "    player1_cards.append(player2_cards.pop(26))\n",
    "    #shuffle p1 & p2\n",
    "    random.shuffle(player1_cards)\n",
    "    random.shuffle(player2_cards)"
   ]
  },
  {
   "cell_type": "code",
   "execution_count": 6,
   "metadata": {},
   "outputs": [
    {
     "name": "stdout",
     "output_type": "stream",
     "text": [
      "partial deck 52\n",
      "SPECIFY WHICH rank card you want to remove, ex2, 3,...J(11),...,A(14):14\n",
      "partial deck 0\n",
      "p1 26\n",
      "p2 26\n"
     ]
    }
   ],
   "source": [
    "create_deck()\n",
    "partial_deck = list(full_deck)\n",
    "print(\"partial deck\",len(partial_deck))\n",
    "#deal_war()\n",
    "#deal_player2_four()\n",
    "deal_player1_four()\n",
    "\n",
    "print(\"partial deck\",len(partial_deck))\n",
    "print(\"p1\",len(player1_cards))\n",
    "print(\"p2\",len(player2_cards))"
   ]
  },
  {
   "cell_type": "code",
   "execution_count": 7,
   "metadata": {},
   "outputs": [
    {
     "name": "stdout",
     "output_type": "stream",
     "text": [
      "player1's deck Card.THREE\n",
      "player1's deck Card.EIGHT\n",
      "player1's deck Card.TEN\n",
      "player1's deck Card.ACE\n",
      "player1's deck Card.ACE\n",
      "player1's deck Card.NINE\n",
      "player1's deck Card.JACK\n",
      "player1's deck Card.JACK\n",
      "player1's deck Card.ACE\n",
      "player1's deck Card.KING\n",
      "player1's deck Card.ACE\n",
      "player1's deck Card.THREE\n",
      "player1's deck Card.TWO\n",
      "player1's deck Card.FIVE\n",
      "player1's deck Card.FIVE\n",
      "player1's deck Card.SIX\n",
      "player1's deck Card.JACK\n",
      "player1's deck Card.SIX\n",
      "player1's deck Card.FOUR\n",
      "player1's deck Card.TWO\n",
      "player1's deck Card.SEVEN\n",
      "player1's deck Card.SIX\n",
      "player1's deck Card.TEN\n",
      "player1's deck Card.THREE\n",
      "player1's deck Card.TEN\n",
      "player1's deck Card.FIVE\n",
      "player2's deck Card.NINE\n",
      "player2's deck Card.SEVEN\n",
      "player2's deck Card.EIGHT\n",
      "player2's deck Card.EIGHT\n",
      "player2's deck Card.QUEEN\n",
      "player2's deck Card.KING\n",
      "player2's deck Card.FOUR\n",
      "player2's deck Card.SIX\n",
      "player2's deck Card.FOUR\n",
      "player2's deck Card.NINE\n",
      "player2's deck Card.TWO\n",
      "player2's deck Card.QUEEN\n",
      "player2's deck Card.KING\n",
      "player2's deck Card.THREE\n",
      "player2's deck Card.TEN\n",
      "player2's deck Card.FIVE\n",
      "player2's deck Card.FOUR\n",
      "player2's deck Card.NINE\n",
      "player2's deck Card.KING\n",
      "player2's deck Card.SEVEN\n",
      "player2's deck Card.SEVEN\n",
      "player2's deck Card.QUEEN\n",
      "player2's deck Card.JACK\n",
      "player2's deck Card.EIGHT\n",
      "player2's deck Card.QUEEN\n",
      "player2's deck Card.TWO\n"
     ]
    }
   ],
   "source": [
    "# This cell displays the content of player 1 and 2 after the deck has been split in half (without shuffle)\n",
    "for i in range(0, len(player1_cards)):\n",
    "    card1 = player1_cards[i].card\n",
    "    #cardSuit = player1_cards[i].suit\n",
    "    print(\"player1's deck\", card1)\n",
    "    \n",
    "for i in range(0, len(player2_cards)):\n",
    "    card2 = player2_cards[i].card\n",
    "    cardSuit = player1_cards[i].suit\n",
    "    print(\"player2's deck\", card2)"
   ]
  },
  {
   "cell_type": "code",
   "execution_count": 8,
   "metadata": {},
   "outputs": [],
   "source": [
    "# if this is excuted you can reset fulldeck etc\n",
    "full_deck = []\n",
    "partial_deck = []\n",
    "player1_cards = []\n",
    "player2_cards = []"
   ]
  },
  {
   "cell_type": "markdown",
   "metadata": {},
   "source": [
    "Credits: Cpt Jimmy Kirk, I extended his card class set up as the base for this\n",
    "https://www.youtube.com/watch?v=62TmpPDs0mM\n"
   ]
  }
 ],
 "metadata": {
  "kernelspec": {
   "display_name": "Python 3",
   "language": "python",
   "name": "python3"
  },
  "language_info": {
   "codemirror_mode": {
    "name": "ipython",
    "version": 3
   },
   "file_extension": ".py",
   "mimetype": "text/x-python",
   "name": "python",
   "nbconvert_exporter": "python",
   "pygments_lexer": "ipython3",
   "version": "3.8.3"
  }
 },
 "nbformat": 4,
 "nbformat_minor": 4
}
